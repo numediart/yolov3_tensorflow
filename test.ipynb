{
 "cells": [
  {
   "cell_type": "code",
   "execution_count": null,
   "metadata": {},
   "outputs": [],
   "source": [
    "from __future__ import division, print_function\n",
    "\n",
    "import tensorflow as tf\n",
    "import numpy as np\n",
    "import argparse\n",
    "import cv2\n",
    "from matplotlib import pyplot as plt\n",
    "import time\n",
    "\n",
    "from utils.misc_utils import parse_anchors, read_class_names\n",
    "from utils.nms_utils import gpu_nms\n",
    "from utils.plot_utils import get_color_table, plot_one_box\n",
    "from utils.data_aug import letterbox_resize\n",
    "\n",
    "from model import yolov3\n",
    "\n",
    "%matplotlib inline"
   ]
  },
  {
   "cell_type": "markdown",
   "metadata": {},
   "source": [
    "# Downloading pretrained model\n",
    "\n",
    "- The pretrained darknet weights file can be downloaded from: https://pjreddie.com/media/files/yolov3.weights\n",
    "- Place this weights file under directory \"./data/darknet_weights/\" and then run:\n",
    "    __python convert_weight.py__\n",
    "- The converted TensorFlow checkpoint file will be saved to \"./data/darknet_weights/\" directory\n",
    "\n",
    "- You can also download the converted TensorFlow checkpoint file by me via [Google Drive link](https://drive.google.com/drive/folders/1TB7hhN_TFogiD5kxVy8Pq0FQh_t9mHue?usp=sharing) and then place it to the same directory."
   ]
  },
  {
   "cell_type": "markdown",
   "metadata": {},
   "source": [
    "# Demo Image"
   ]
  },
  {
   "cell_type": "code",
   "execution_count": null,
   "metadata": {},
   "outputs": [],
   "source": [
    "input_image = './data/demo_data/messi.jpg'  # The path of the input image\n",
    "anchor_path = './data/yolo_anchors.txt'  # The path of the anchor txt file\n",
    "new_size = [416, 416]  # Resize the input image with `new_size`, size format: [width, height]\n",
    "letterbox_resize_ = True  # Whether to use the letterbox resize\n",
    "class_name_path = './data/coco.names'  # The path of the class names\n",
    "restore_path = './data/darknet_weights/yolov3.ckpt'  # he path of the weights to restore\n",
    "\n",
    "anchors = parse_anchors(anchor_path)\n",
    "classes = read_class_names(class_name_path)\n",
    "num_class = len(classes)\n",
    "\n",
    "color_table = get_color_table(num_class)"
   ]
  },
  {
   "cell_type": "code",
   "execution_count": null,
   "metadata": {},
   "outputs": [],
   "source": [
    "img_ori = cv2.imread(input_image)\n",
    "if letterbox_resize_:\n",
    "    img, resize_ratio, dw, dh = letterbox_resize(img_ori, new_size[0], new_size[1])\n",
    "else:\n",
    "    height_ori, width_ori = img_ori.shape[:2]\n",
    "    img = cv2.resize(img_ori, tuple(new_size))\n",
    "img = cv2.cvtColor(img, cv2.COLOR_BGR2RGB)\n",
    "img = np.asarray(img, np.float32)\n",
    "img = img[np.newaxis, :] / 255."
   ]
  },
  {
   "cell_type": "code",
   "execution_count": null,
   "metadata": {},
   "outputs": [],
   "source": [
    "with tf.Session() as sess:\n",
    "    input_data = tf.placeholder(tf.float32, [1, new_size[1], new_size[0], 3], name='input_data')\n",
    "    yolo_model = yolov3(num_class, anchors)\n",
    "    with tf.variable_scope('yolov3'):\n",
    "        pred_feature_maps = yolo_model.forward(input_data, False)\n",
    "    pred_boxes, pred_confs, pred_probs = yolo_model.predict(pred_feature_maps)\n",
    "\n",
    "    pred_scores = pred_confs * pred_probs\n",
    "\n",
    "    boxes, scores, labels = gpu_nms(pred_boxes, pred_scores, num_class, max_boxes=200, score_thresh=0.3, nms_thresh=0.45)\n",
    "\n",
    "    saver = tf.train.Saver()\n",
    "    saver.restore(sess, restore_path)\n",
    "\n",
    "    boxes_, scores_, labels_ = sess.run([boxes, scores, labels], feed_dict={input_data: img})\n",
    "\n",
    "    # rescale the coordinates to the original image\n",
    "    if letterbox_resize:\n",
    "        boxes_[:, [0, 2]] = (boxes_[:, [0, 2]] - dw) / resize_ratio\n",
    "        boxes_[:, [1, 3]] = (boxes_[:, [1, 3]] - dh) / resize_ratio\n",
    "    else:\n",
    "        boxes_[:, [0, 2]] *= (width_ori/float(new_size[0]))\n",
    "        boxes_[:, [1, 3]] *= (height_ori/float(new_size[1]))\n",
    "\n",
    "    print(\"box coords:\")\n",
    "    print(boxes_)\n",
    "    print('*' * 30)\n",
    "    print(\"scores:\")\n",
    "    print(scores_)\n",
    "    print('*' * 30)\n",
    "    print(\"labels:\")\n",
    "    print(labels_)\n",
    "\n",
    "    for i in range(len(boxes_)):\n",
    "        x0, y0, x1, y1 = boxes_[i]\n",
    "        plot_one_box(img_ori, [x0, y0, x1, y1], label=classes[labels_[i]] + ', {:.2f}%'.format(scores_[i] * 100), color=color_table[labels_[i]])\n",
    "    img_ori = img_ori[:,:,::-1]\n",
    "    plt.imshow(img_ori)\n",
    "    plt.show()\n"
   ]
  },
  {
   "cell_type": "markdown",
   "metadata": {},
   "source": [
    "# Demo Video"
   ]
  },
  {
   "cell_type": "code",
   "execution_count": null,
   "metadata": {},
   "outputs": [],
   "source": [
    "input_video = './data/demo_data/video.mp4'  # The path of the input video\n",
    "anchor_path = './data/yolo_anchors.txt'  # The path of the anchor txt file\n",
    "new_size = [416, 416]  # Resize the input image with `new_size`, size format: [width, height]\n",
    "letterbox_resize_ = True  # Whether to use the letterbox resize\n",
    "class_name_path = './data/coco.names'  # The path of the class names\n",
    "restore_path = './data/darknet_weights/yolov3.ckpt'  # he path of the weights to restore\n",
    "\n",
    "anchors = parse_anchors(anchor_path)\n",
    "classes = read_class_names(class_name_path)\n",
    "num_class = len(classes)\n",
    "\n",
    "color_table = get_color_table(num_class)"
   ]
  },
  {
   "cell_type": "code",
   "execution_count": null,
   "metadata": {},
   "outputs": [],
   "source": [
    "vid = cv2.VideoCapture(input_video)\n",
    "video_frame_cnt = int(vid.get(7))\n",
    "video_width = int(vid.get(3))\n",
    "video_height = int(vid.get(4))\n",
    "video_fps = int(vid.get(5))"
   ]
  },
  {
   "cell_type": "code",
   "execution_count": null,
   "metadata": {},
   "outputs": [],
   "source": [
    "with tf.Session() as sess:\n",
    "    input_data = tf.placeholder(tf.float32, [1, new_size[1], new_size[0], 3], name='input_data')\n",
    "    yolo_model = yolov3(num_class, anchors)\n",
    "    with tf.variable_scope('yolov3'):\n",
    "        pred_feature_maps = yolo_model.forward(input_data, False)\n",
    "    pred_boxes, pred_confs, pred_probs = yolo_model.predict(pred_feature_maps)\n",
    "\n",
    "    pred_scores = pred_confs * pred_probs\n",
    "\n",
    "    boxes, scores, labels = gpu_nms(pred_boxes, pred_scores, num_class, max_boxes=200, score_thresh=0.3, nms_thresh=0.45)\n",
    "\n",
    "    saver = tf.train.Saver()\n",
    "    saver.restore(sess, restore_path)\n",
    "\n",
    "    for i in range(video_frame_cnt):\n",
    "        ret, img_ori = vid.read()\n",
    "        if letterbox_resize_:\n",
    "            img, resize_ratio, dw, dh = letterbox_resize(img_ori, new_size[0], new_size[1])\n",
    "        else:\n",
    "            height_ori, width_ori = img_ori.shape[:2]\n",
    "            img = cv2.resize(img_ori, tuple(new_size))\n",
    "        img = cv2.cvtColor(img, cv2.COLOR_BGR2RGB)\n",
    "        img = np.asarray(img, np.float32)\n",
    "        img = img[np.newaxis, :] / 255.\n",
    "\n",
    "        start_time = time.time()\n",
    "        boxes_, scores_, labels_ = sess.run([boxes, scores, labels], feed_dict={input_data: img})\n",
    "        end_time = time.time()\n",
    "\n",
    "        # rescale the coordinates to the original image\n",
    "        if letterbox_resize:\n",
    "            boxes_[:, [0, 2]] = (boxes_[:, [0, 2]] - dw) / resize_ratio\n",
    "            boxes_[:, [1, 3]] = (boxes_[:, [1, 3]] - dh) / resize_ratio\n",
    "        else:\n",
    "            boxes_[:, [0, 2]] *= (width_ori/float(new_size[0]))\n",
    "            boxes_[:, [1, 3]] *= (height_ori/float(new_size[1]))\n",
    "\n",
    "\n",
    "        for i in range(len(boxes_)):\n",
    "            x0, y0, x1, y1 = boxes_[i]\n",
    "            plot_one_box(img_ori, [x0, y0, x1, y1], label=classes[labels_[i]] + ', {:.2f}%'.format(scores_[i] * 100), color=color_table[labels_[i]])\n",
    "        cv2.putText(img_ori, '{:.2f}ms'.format((end_time - start_time) * 1000), (40, 40), 0,\n",
    "                    fontScale=1, color=(0, 255, 0), thickness=2)\n",
    "        \n",
    "#         img_ori = img_ori[:,:,::-1]\n",
    "#         plt.imshow(img_ori)\n",
    "#         plt.show()\n",
    "        cv2.imshow('image', img_ori)\n",
    "        if cv2.waitKey(1) & 0xFF == ord('q'):\n",
    "            break\n",
    "\n",
    "    vid.release()"
   ]
  },
  {
   "cell_type": "code",
   "execution_count": null,
   "metadata": {},
   "outputs": [],
   "source": []
  }
 ],
 "metadata": {
  "kernelspec": {
   "display_name": "Python 3",
   "language": "python",
   "name": "python3"
  },
  "language_info": {
   "codemirror_mode": {
    "name": "ipython",
    "version": 3
   },
   "file_extension": ".py",
   "mimetype": "text/x-python",
   "name": "python",
   "nbconvert_exporter": "python",
   "pygments_lexer": "ipython3",
   "version": "3.6.8"
  }
 },
 "nbformat": 4,
 "nbformat_minor": 2
}
